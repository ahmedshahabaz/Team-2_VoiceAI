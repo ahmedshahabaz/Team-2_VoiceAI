{
 "cells": [
  {
   "cell_type": "markdown",
   "id": "31396349-210b-4bae-af09-9accd77b0d78",
   "metadata": {},
   "source": [
    "# This file is used for the gender, age, site based visualizations and results"
   ]
  },
  {
   "cell_type": "markdown",
   "id": "82ff5920-6b33-43ba-b1b6-2961aff5c4b1",
   "metadata": {},
   "source": [
    "<h4 style=\"color:blue\">Note that, to use these functions, you need to use or import the \"MyAudioDataset()\" function created in the visualization file, once you pass a dataset in the MyAudioDataset function, it will return appropriate dataset format to be used in the below, the count functions return pandas dataframe with count based on each category </h4>"
   ]
  },
  {
   "cell_type": "code",
   "execution_count": null,
   "id": "306b8060-1c9a-4aae-a8c3-558e721743b6",
   "metadata": {},
   "outputs": [],
   "source": [
    "import numpy as np\n",
    "import pandas as pd"
   ]
  },
  {
   "cell_type": "markdown",
   "id": "46485f56-9e29-4414-b536-0968a9fd5067",
   "metadata": {},
   "source": [
    "### get site based count"
   ]
  },
  {
   "cell_type": "code",
   "execution_count": null,
   "id": "4de06b28-a17e-4183-801f-7b3c66004f48",
   "metadata": {},
   "outputs": [],
   "source": [
    "def get_SiteCount(dataset):\n",
    "    \n",
    "    n = len(dataset)\n",
    "    site_names = {0: 'Mt. Sinai', 1: 'VUMC', 2: 'MIT', 3: 'USF', 4: 'WCM'}\n",
    "    vcp_counts = {site: {'VCP': 0, 'NO_VCP': 0} for site in site_names.values()}\n",
    "    gender_counts = {site: {'Male': 0, 'Female': 0, 'No Record': 0, 'Non Binary': 0} for site in site_names.values()}\n",
    "    \n",
    "    for i in range(n):\n",
    "        try:\n",
    "            opensmile_feature, age, gender, site, binned_age, vfp = dataset.__getitem__(i)\n",
    "        except ValueError:\n",
    "            print(f\"Error: dataset.__getitem__({i}) did not return 5 values\")\n",
    "            continue\n",
    "        \n",
    "        if site in site_names:\n",
    "            \n",
    "            #count VCP per site\n",
    "            site_name = site_names[site]\n",
    "            if vfp == 0.0:\n",
    "                vcp_counts[site_name]['NO_VCP'] += 1\n",
    "            else:\n",
    "                vcp_counts[site_name]['VCP'] += 1\n",
    "                \n",
    "            #count gender per site\n",
    "            if gender == 0:\n",
    "                gender_counts[site_name]['Male'] += 1\n",
    "            elif gender == 1:\n",
    "                gender_counts[site_name]['Female'] += 1\n",
    "            elif gender == 2:\n",
    "                gender_counts[site_name]['No Record'] += 1\n",
    "            else:\n",
    "                gender_counts[site_name]['Non Binary'] += 1\n",
    "            \n",
    "    \n",
    "    vfp_data = {\n",
    "        \"Total\": [vcp_counts['Mt. Sinai']['VCP'] + vcp_counts['Mt. Sinai']['NO_VCP'], vcp_counts['VUMC']['VCP'] + vcp_counts['VUMC']['NO_VCP'], vcp_counts['MIT']['VCP'] + vcp_counts['MIT']['NO_VCP'], vcp_counts['USF']['VCP'] + vcp_counts['USF']['NO_VCP'], vcp_counts['WCM']['VCP'] + vcp_counts['WCM']['NO_VCP']],\n",
    "        \"VFP\": [vcp_counts['Mt. Sinai']['VCP'], vcp_counts['VUMC']['VCP'], vcp_counts['MIT']['VCP'], vcp_counts['USF']['VCP'], vcp_counts['WCM']['VCP']],\n",
    "        \"NO VFP\": [vcp_counts['Mt. Sinai']['NO_VCP'], vcp_counts['VUMC']['NO_VCP'], vcp_counts['MIT']['NO_VCP'], vcp_counts['USF']['NO_VCP'], vcp_counts['WCM']['NO_VCP']]\n",
    "    }\n",
    "    \n",
    "    vfp_row_names = [\"Mt. Sinai\", \"VUMC\", \"MIT\", \"USF\", \"WCM\"]\n",
    "    \n",
    "    vfp_df = pd.DataFrame(vfp_data, index = vfp_row_names)\n",
    "\n",
    "    gender_data = {\n",
    "    \"Total\": [gender_counts['Mt. Sinai']['Male'] + gender_counts['Mt. Sinai']['Female'] + gender_counts['Mt. Sinai']['No Record'] + gender_counts['Mt. Sinai']['Non Binary'], gender_counts['VUMC']['Male'] + gender_counts['VUMC']['Female'] + gender_counts['VUMC']['No Record'] + gender_counts['VUMC']['Non Binary'], gender_counts['MIT']['Male'] + gender_counts['MIT']['Female'] + gender_counts['MIT']['No Record'] + gender_counts['MIT']['Non Binary'], gender_counts['USF']['Male'] + gender_counts['USF']['Female'] + gender_counts['USF']['No Record'] + gender_counts['USF']['Non Binary'], gender_counts['WCM']['Male'] + gender_counts['WCM']['Female'] + gender_counts['WCM']['No Record'] + gender_counts['WCM']['Non Binary']],\n",
    "    \"Male\": [gender_counts['Mt. Sinai']['Male'], gender_counts['VUMC']['Male'], gender_counts['MIT']['Male'], gender_counts['USF']['Male'], gender_counts['WCM']['Male']],\n",
    "    \"Female\": [gender_counts['Mt. Sinai']['Female'], gender_counts['VUMC']['Female'], gender_counts['MIT']['Female'], gender_counts['USF']['Female'], gender_counts['WCM']['Female']],\n",
    "    \"No Record\": [gender_counts['Mt. Sinai']['No Record'], gender_counts['VUMC']['No Record'], gender_counts['MIT']['No Record'], gender_counts['USF']['No Record'], gender_counts['WCM']['No Record']],\n",
    "    \"Non Binary\": [gender_counts['Mt. Sinai']['Non Binary'], gender_counts['VUMC']['Non Binary'], gender_counts['MIT']['Non Binary'], gender_counts['USF']['Non Binary'], gender_counts['WCM']['Non Binary']]\n",
    "    }\n",
    "    \n",
    "    gender_row_names = [\"Mt. Sinai\", \"VUMC\", \"MIT\", \"USF\", \"WCM\"]\n",
    "    \n",
    "    gender_df = pd.DataFrame(gender_data, index = gender_row_names)\n",
    "\n",
    "    \n",
    "    return vfp_df, gender_df   # returns vocal fold paralysis and gender count per site in two different pandas dataframe"
   ]
  },
  {
   "cell_type": "markdown",
   "id": "d1d1ea7d-b59f-4379-ae1e-703f6a7ee0c2",
   "metadata": {},
   "source": [
    "### get gender based count"
   ]
  },
  {
   "cell_type": "code",
   "execution_count": null,
   "id": "712dfcb5-cef5-4930-bc43-b6cef7aaf6f3",
   "metadata": {},
   "outputs": [],
   "source": [
    "def get_GenderCount(dataset):\n",
    "    \n",
    "    n = len(dataset)\n",
    "    gender_names = {0: 'Male', 1: 'Female', 2: 'No Record', 3: 'Non Binary'}\n",
    "    vcp_counts = {gender: {'VCP': 0, 'NO_VCP': 0} for gender in gender_names.values()}\n",
    "    # gender_counts = {site: {'Male': 0, 'Female': 0, 'No Record': 0, 'Non Binary': 0} for site in site_names.values()}\n",
    "    \n",
    "    for i in range(n):\n",
    "        try:\n",
    "            opensmile_feature, age, gender, site, binned_age, vfp = dataset.__getitem__(i)\n",
    "        except ValueError:\n",
    "            print(f\"Error: dataset.__getitem__({i}) did not return 5 values\")\n",
    "            continue\n",
    "        \n",
    "        if gender in gender_names:\n",
    "            \n",
    "            #count VCP per gender\n",
    "            gender_name = gender_names[gender]\n",
    "            if vfp == 0.0:\n",
    "                vcp_counts[gender_name]['NO_VCP'] += 1\n",
    "            else:\n",
    "                vcp_counts[gender_name]['VCP'] += 1\n",
    "\n",
    "    vfp_data = {\n",
    "        \"Total\": [vcp_counts['Male']['VCP'] + vcp_counts['Male']['NO_VCP'], vcp_counts['Female']['VCP'] + vcp_counts['Female']['NO_VCP'], vcp_counts['No Record']['VCP'] + vcp_counts['No Record']['NO_VCP'], vcp_counts['Non Binary']['VCP'] + vcp_counts['Non Binary']['NO_VCP']],\n",
    "        \"VFP\": [vcp_counts['Male']['VCP'], vcp_counts['Female']['VCP'], vcp_counts['No Record']['VCP'], vcp_counts['Non Binary']['VCP']],\n",
    "        \"NO VFP\": [vcp_counts['Male']['NO_VCP'], vcp_counts['Female']['NO_VCP'], vcp_counts['No Record']['NO_VCP'], vcp_counts['Non Binary']['NO_VCP']]\n",
    "    }\n",
    "\n",
    "    vfp_row_names = [\"Male\", \"Female\", \"No Record\", \"Non Binary\"]\n",
    "    \n",
    "    vfp_df = pd.DataFrame(vfp_data, index = vfp_row_names)\n",
    "\n",
    "    return vfp_df"
   ]
  },
  {
   "cell_type": "markdown",
   "id": "8577a2e8-9a38-4e86-8233-ef9c60ddaf2f",
   "metadata": {},
   "source": [
    "### get age based count"
   ]
  },
  {
   "cell_type": "code",
   "execution_count": null,
   "id": "e518dc69-caa5-4fd1-ae95-c69d087641bd",
   "metadata": {},
   "outputs": [],
   "source": [
    "def get_AgeCount(dataset):\n",
    "    \n",
    "    n = len(dataset)\n",
    "    age_names = {0: '0-20', 1: '21-40', 2: '41-60', 3: '61-80', 4: '81-100'}\n",
    "    vcp_counts = {age: {'VCP': 0, 'NO_VCP': 0} for age in age_names.values()}\n",
    "    # gender_counts = {site: {'Male': 0, 'Female': 0, 'No Record': 0, 'Non Binary': 0} for site in site_names.values()}\n",
    "    \n",
    "    for i in range(n):\n",
    "        try:\n",
    "            opensmile_feature, age, gender, site, binned_age, vfp = dataset.__getitem__(i)\n",
    "        except ValueError:\n",
    "            print(f\"Error: dataset.__getitem__({i}) did not return 5 values\")\n",
    "            continue\n",
    "        \n",
    "        if binned_age in age_names:\n",
    "            \n",
    "            #count VCP per gender\n",
    "            age_name = age_names[binned_age]\n",
    "            if vfp == 0.0:\n",
    "                vcp_counts[age_name]['NO_VCP'] += 1\n",
    "            else:\n",
    "                vcp_counts[age_name]['VCP'] += 1\n",
    "\n",
    "    vfp_data = {\n",
    "        \"Total\": [vcp_counts['0-20']['VCP'] + vcp_counts['0-20']['NO_VCP'], vcp_counts['21-40']['VCP'] + vcp_counts['21-40']['NO_VCP'], vcp_counts['41-60']['VCP'] + vcp_counts['41-60']['NO_VCP'], vcp_counts['61-80']['VCP'] + vcp_counts['61-80']['NO_VCP'], vcp_counts['81-100']['VCP'] + vcp_counts['81-100']['NO_VCP']],\n",
    "        \"VFP\": [vcp_counts['0-20']['VCP'], vcp_counts['21-40']['VCP'], vcp_counts['41-60']['VCP'], vcp_counts['61-80']['VCP'], vcp_counts['81-100']['VCP']],\n",
    "        \"NO VFP\": [vcp_counts['0-20']['NO_VCP'], vcp_counts['21-40']['NO_VCP'], vcp_counts['41-60']['NO_VCP'], vcp_counts['61-80']['NO_VCP'],vcp_counts['81-100']['NO_VCP']]\n",
    "    }\n",
    "\n",
    "    vfp_row_names = [\"0-20\", \"21-40\", \"41-60\", \"61-80\", \"81-100\"]\n",
    "    \n",
    "    vfp_df = pd.DataFrame(vfp_data, index = vfp_row_names)\n",
    "\n",
    "    return vfp_df"
   ]
  },
  {
   "cell_type": "markdown",
   "id": "0ba30c20-60e5-4a2a-b023-98ee672f4dfb",
   "metadata": {},
   "source": [
    "<h4 style=\"color:blue\">Note that, to use these functions, you need to use or import the \"create_open_smile_df()\" function created in the visualization file, it returns 3 variables, the first one of \"the opensmile_df_test\" which is all the opensmile features needed to test the RF_classifier() function created in the visualization folder </h4>"
   ]
  },
  {
   "cell_type": "markdown",
   "id": "35e626c7-1984-44ed-9428-9f0a75315e70",
   "metadata": {},
   "source": [
    "<h2>Prediction of Random forest classifier based on site, age, gender</h2>"
   ]
  },
  {
   "cell_type": "markdown",
   "id": "ccca4c3f-4cd2-4b24-ad08-c9f65796a517",
   "metadata": {},
   "source": [
    "#### create site, gender, age based datasets from the returned dataset from \"create_open-smile_df\""
   ]
  },
  {
   "cell_type": "code",
   "execution_count": 4,
   "id": "478bf9ae-e310-4fc3-b372-d34ca40e4769",
   "metadata": {},
   "outputs": [],
   "source": [
    "# site based mapping\n",
    "site_mapping = {0: 'Mt. Sinai', 1: 'VUMC', 2: 'MIT', 3: 'USF', 4: 'WCM'}\n",
    "\n",
    "# Divide the DataFrame into separate DataFrames based on 'site'\n",
    "site_dfs = {site_mapping[site]: df for site, df in opensmile_df_test.groupby('site')}\n",
    "\n",
    "# Access the DataFrames\n",
    "mt_sinai_df = site_dfs['Mt. Sinai']\n",
    "vumc_df = site_dfs['VUMC']\n",
    "mit_df = site_dfs['MIT']\n",
    "usf_df = site_dfs['USF']\n",
    "wcm_df = site_dfs['WCM']"
   ]
  },
  {
   "cell_type": "code",
   "execution_count": null,
   "id": "bcfaeaed-8be3-4bdb-80d2-4c6decf47bbe",
   "metadata": {},
   "outputs": [],
   "source": [
    "# gender based\n",
    "gender_mapping = {0: 'Male', 1: 'Female', 2: 'No Record', 3: 'Non Binary'}\n",
    "\n",
    "# Divide the DataFrame into separate DataFrames based on 'site'\n",
    "gender_dfs = {gender_mapping[site]: df for site, df in opensmile_df_test.groupby('gender')}\n",
    "\n",
    "# Access the DataFrames\n",
    "male_df = gender_dfs['Male']\n",
    "female_df = gender_dfs['Female']\n",
    "# no_record_df = gender_dfs['No Record']\n",
    "# non_binary_df = gender_dfs['Non Binary']"
   ]
  },
  {
   "cell_type": "code",
   "execution_count": null,
   "id": "ba741033-2e3c-4b9b-9a54-9e5e3c233cc1",
   "metadata": {},
   "outputs": [],
   "source": [
    "# age based\n",
    "\n",
    "age_mapping = {0: '0-20', 1: '21-40', 2: '41-60', 3: '61-80', 4: '81-100'}\n",
    "\n",
    "# Divide the DataFrame into separate DataFrames based on 'site'\n",
    "age_dfs = {age_mapping[site]: df for site, df in opensmile_df_test.groupby('AGE_bin')}\n",
    "\n",
    "# Access the DataFrames\n",
    "age_0_20_df = age_dfs['0-20']\n",
    "age_21_40_df = age_dfs['21-40']\n",
    "age_41_60_df = age_dfs['41-60']\n",
    "age_61_80_df = age_dfs['61-80']\n",
    "age_81_100_df = age_dfs['81-100']"
   ]
  },
  {
   "cell_type": "markdown",
   "id": "ca8867bc-7cae-4f3d-92cb-6caeb9eb17d0",
   "metadata": {},
   "source": [
    "#### this is the function that shows the accuracy score of the GAS based prediction, it should be used under the main visualization code, not alone"
   ]
  },
  {
   "cell_type": "code",
   "execution_count": null,
   "id": "0a6c446a-7fa3-4245-9acb-3dacd3c9ad75",
   "metadata": {},
   "outputs": [],
   "source": [
    "def GAS_based_prediction(df):\n",
    "\n",
    "    df_X_test = scalar.transform(df[feature_columns])\n",
    "    df_y_test = df['vocal_fold_paralysis']\n",
    "    df_predictions = RF_clf.predict(df_X_test)\n",
    "    \n",
    "    accuracy = accuracy_score(df_y_test, df_predictions)\n",
    "    return accuracy"
   ]
  }
 ],
 "metadata": {
  "kernelspec": {
   "display_name": "Python (b2ai)",
   "language": "python",
   "name": "b2ai"
  },
  "language_info": {
   "codemirror_mode": {
    "name": "ipython",
    "version": 3
   },
   "file_extension": ".py",
   "mimetype": "text/x-python",
   "name": "python",
   "nbconvert_exporter": "python",
   "pygments_lexer": "ipython3",
   "version": "3.12.4"
  }
 },
 "nbformat": 4,
 "nbformat_minor": 5
}
